{
 "cells": [
  {
   "cell_type": "code",
   "execution_count": null,
   "id": "a14d0ec0-1c9b-48b6-8fc8-d7f3beb3a1ce",
   "metadata": {
    "scrolled": true
   },
   "outputs": [],
   "source": [
    "%pip install langchain\n",
    "%pip install serpapi\n",
    "%pip install langchain-google-genai\n",
    "%pip install google-search-results"
   ]
  },
  {
   "cell_type": "code",
   "execution_count": 3,
   "id": "5a530ac1-f807-4554-9916-ede2938d099e",
   "metadata": {},
   "outputs": [],
   "source": [
    "import getpass\n",
    "import os\n",
    "\n",
    "if \"GOOGLE_API_KEY\" not in os.environ:\n",
    "    os.environ[\"GOOGLE_API_KEY\"] = getpass.getpass(\"Enter your Google AI API key: \")"
   ]
  },
  {
   "cell_type": "code",
   "execution_count": null,
   "id": "714b8816-a7a9-4d5b-8ba7-8962a458fe1a",
   "metadata": {},
   "outputs": [],
   "source": [
    "from langchain_google_genai import ChatGoogleGenerativeAI\n",
    "from langchain.chains import LLMChain\n",
    "from langchain_core.prompts import ChatPromptTemplate\n",
    "from serpapi.google_search import GoogleSearch\n",
    "\n",
    "def fetch_hotels(query: str):\n",
    "    \"\"\"\n",
    "    query: e.g. \"Calangute Beach, Goa\"\n",
    "    Returns: list of hotel dicts from SerpAPI Google Hotels\n",
    "    \"\"\"\n",
    "\n",
    "    params = {\n",
    "        \"engine\":         \"google_hotels\",\n",
    "        \"q\":              query,\n",
    "        \"api_key\":        \"ae70fa06fffdc40d126789c978fa29b0cbf347340d0e6e0ff3db696c53a9c58f\",\n",
    "        \"currency\": \"INR\",\n",
    "        \"check_in_date\":  \"2025-05-24\",\n",
    "        \"check_out_date\": \"2025-05-28\",\n",
    "    }\n",
    "    search = GoogleSearch(params)\n",
    "    data = search.get_dict()\n",
    "    return data.get(\"properties\", [])   # hotels live under \"properties\"\n",
    "\n",
    "res = fetch_hotels(\"Calangute Beach, Goa\")\n",
    "print(res)\n",
    "\n"
   ]
  },
  {
   "cell_type": "code",
   "execution_count": 18,
   "id": "ab3b8044-74f7-4977-a120-31342d647a7f",
   "metadata": {},
   "outputs": [],
   "source": [
    "def organize_with_gemini(hotels: list, user_pref: str) -> str:\n",
    "    \"\"\"\n",
    "    hotels: raw list from SerpAPI\n",
    "    user_pref: e.g. \"show me hotels near Calangute Beach Goa under ₹5000\"\n",
    "    Returns: clean bullet‑list text including name, price, location, and booking link\n",
    "    \"\"\"\n",
    "\n",
    "    blob = \"\"\n",
    "    for h in hotels:\n",
    "        name    = h.get(\"name\", \"Unknown\")\n",
    "        price   = h.get(\"rate_per_night\", {}).get(\"lowest\", \"Not specified\")\n",
    "        rating  = h.get(\"overall_rating\", \"Not specified\")\n",
    "        nearby = h.get(\"nearby_places\", \"Not specified\")\n",
    "        link    = h.get(\"hotel_reviews_link\") or h.get(\"link\") or \"Not available\"\n",
    "        blob += f\"Hotel Name: {name} — Price: {price} — Rating: {rating } — Nearby Place: {nearby} — Link: {link}\\n\"\n",
    "\n",
    "    prompt = ChatPromptTemplate.from_template(\"\"\"\n",
    "You are a travel assistant. The user said:\n",
    "  {user_pref}\n",
    "\n",
    "From this list of hotels:\n",
    "{hotel_blob}\n",
    "\n",
    "You are a helpfull ai assitant. Filter to only those that satisfy the user’s request (e.g. price limits),\n",
    "and output a **bullet‑point list** (at most 10) where each item shows:\n",
    "- Hotel Name\n",
    "- Price\n",
    "- Rating\n",
    "- Nearby place\n",
    "- Booking Link\n",
    "\n",
    "Do not return JSON, just bullet points.\n",
    "\"\"\")\n",
    "    \n",
    "    llm = ChatGoogleGenerativeAI(\n",
    "        model=\"gemini-2.0-flash-001\",\n",
    "        temperature=0,\n",
    "        max_tokens=None,\n",
    "        timeout=None,\n",
    "        max_retries=2,\n",
    ")\n",
    "    chain = LLMChain(llm=llm, prompt=prompt, verbose=True)\n",
    "    return chain.run(user_pref=user_pref, hotel_blob=blob)"
   ]
  },
  {
   "cell_type": "code",
   "execution_count": null,
   "id": "e07e9a7f-82ac-4162-a6c3-56b37c8cf3b0",
   "metadata": {
    "collapsed": true,
    "jupyter": {
     "outputs_hidden": true
    }
   },
   "outputs": [],
   "source": [
    "if __name__ == \"__main__\":\n",
    "    \n",
    "    user_pref = input(\"Your hotel request (e.g. 'hotels near Calangute Beach Goa under ₹5000'): \")\n",
    "\n",
    "    location = user_pref.split(\" under \")[0].replace(\"show me hotels near \", \"\").strip()\n",
    "\n",
    "\n",
    "    hotels = fetch_hotels(location)\n",
    "    if not hotels:\n",
    "        print(\"No hotels found.\")\n",
    "    else:\n",
    "        result = organize_with_gemini(hotels, user_pref)\n",
    "        print(\"\\nHere are the matching hotels:\\n\")\n",
    "        print(result)"
   ]
  },
  {
   "cell_type": "code",
   "execution_count": null,
   "id": "5f770f95-dc0a-4c58-8984-a1b595146586",
   "metadata": {},
   "outputs": [],
   "source": []
  },
  {
   "cell_type": "code",
   "execution_count": null,
   "id": "e79cab2e-5475-4d42-9826-715d20f7af03",
   "metadata": {},
   "outputs": [],
   "source": []
  }
 ],
 "metadata": {
  "kernelspec": {
   "display_name": "Python 3 (ipykernel)",
   "language": "python",
   "name": "python3"
  },
  "language_info": {
   "codemirror_mode": {
    "name": "ipython",
    "version": 3
   },
   "file_extension": ".py",
   "mimetype": "text/x-python",
   "name": "python",
   "nbconvert_exporter": "python",
   "pygments_lexer": "ipython3",
   "version": "3.13.2"
  }
 },
 "nbformat": 4,
 "nbformat_minor": 5
}
